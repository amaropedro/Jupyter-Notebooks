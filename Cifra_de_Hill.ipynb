{
  "nbformat": 4,
  "nbformat_minor": 0,
  "metadata": {
    "colab": {
      "provenance": [],
      "collapsed_sections": [
        "-rRhuyJLUrCy",
        "XN0KSVKqU6BW",
        "Kotw6-meVech"
      ]
    },
    "kernelspec": {
      "name": "python3",
      "display_name": "Python 3"
    },
    "language_info": {
      "name": "python"
    }
  },
  "cells": [
    {
      "cell_type": "markdown",
      "source": [
        "# Atividade de criptografia - Cifra de Hill\n",
        "Pedro Amaro </br>\n",
        "\n",
        "</br>\n",
        "Implementa uma 2-cifra de Hill, conforme o pdf anexado na atividaede.\n"
      ],
      "metadata": {
        "id": "2AsGwxGBUQ9z"
      }
    },
    {
      "cell_type": "markdown",
      "source": [
        "## imports e funções auxiliares"
      ],
      "metadata": {
        "id": "-rRhuyJLUrCy"
      }
    },
    {
      "cell_type": "code",
      "source": [
        "import numpy as np"
      ],
      "metadata": {
        "id": "O29uh2h4_Bdp"
      },
      "execution_count": null,
      "outputs": []
    },
    {
      "cell_type": "code",
      "source": [
        "def to_array(msg):\n",
        "  lis = []\n",
        "  for i in msg:\n",
        "    lis.append(ord(i))\n",
        "  if len(lis)%2:\n",
        "    lis.append(ord(\" \"))\n",
        "\n",
        "  return np.asarray(lis)\n",
        "\n",
        "def to_text(a):\n",
        "  msg = []\n",
        "  for i in a.flatten():\n",
        "    msg.append(chr(i))\n",
        "\n",
        "  return ''.join(msg)\n",
        "\n",
        "def to_2_1_matrix(arr, i):\n",
        "  p = [[arr[i]], [arr[i+1]]]\n",
        "  p = np.asarray(p)\n",
        "  return p"
      ],
      "metadata": {
        "id": "_zXfXPfMUwv4"
      },
      "execution_count": null,
      "outputs": []
    },
    {
      "cell_type": "code",
      "source": [
        "#https://stackoverflow.com/questions/4798654/modular-multiplicative-inverse-function-in-python\n",
        "def egcd(a, b):\n",
        "    if a == 0:\n",
        "        return (b, 0, 1)\n",
        "    else:\n",
        "        g, y, x = egcd(b % a, a)\n",
        "        return (g, x - (b // a) * y, y)\n",
        "\n",
        "def modinv(a, m):\n",
        "    g, x, y = egcd(a, m)\n",
        "    if g != 1:\n",
        "        raise Exception('Chave invalida! O inverso modular não existe. Insira outra chave e tente novamente.')\n",
        "    else:\n",
        "        return x % m"
      ],
      "metadata": {
        "id": "eBRTwTC2jfSe"
      },
      "execution_count": null,
      "outputs": []
    },
    {
      "cell_type": "markdown",
      "source": [
        "## Inserção de Mensagem e Chave\n",
        "Basta substituir a string em TEXTOCLARO para a mensagem.</br>\n",
        "E os numeros em a11, a12, a21 e a22 para a criação da chave. Lembrando que a chave precisa possuir um inverso multiplicativo."
      ],
      "metadata": {
        "id": "XN0KSVKqU6BW"
      }
    },
    {
      "cell_type": "code",
      "execution_count": null,
      "metadata": {
        "id": "WpxXh2ke9FeV"
      },
      "outputs": [],
      "source": [
        "TEXTOCLARO = \"Meu nome é Pedro, prazer em conheçe-lo.\""
      ]
    },
    {
      "cell_type": "code",
      "source": [
        "a11 = 1\n",
        "a12 = 7\n",
        "a21 = 4\n",
        "a22 = 3\n",
        "\n",
        "KEY = [[a11, a12], [a21, a22]]\n",
        "KEY"
      ],
      "metadata": {
        "colab": {
          "base_uri": "https://localhost:8080/"
        },
        "id": "tK-euEeDFizp",
        "outputId": "b8f5149b-a2a1-4d4a-9a79-6686acc3da33"
      },
      "execution_count": null,
      "outputs": [
        {
          "output_type": "execute_result",
          "data": {
            "text/plain": [
              "[[1, 7], [4, 3]]"
            ]
          },
          "metadata": {},
          "execution_count": 117
        }
      ]
    },
    {
      "cell_type": "markdown",
      "source": [
        "## Funções para cifrar e decifrar"
      ],
      "metadata": {
        "id": "Kotw6-meVech"
      }
    },
    {
      "cell_type": "code",
      "source": [
        "def cipher(msg, key):\n",
        "  #tamanho da tabela UTF-8, ao inves de 26 letras do alfabeto\n",
        "  upperlimit = 1112064\n",
        "\n",
        "  input = to_array(msg)\n",
        "  output = []\n",
        "\n",
        "  for i in range(len(input)):\n",
        "    if i%2==0:\n",
        "      p = to_2_1_matrix(input, i)\n",
        "      q = np.matmul(key,p)\n",
        "      q = q%upperlimit\n",
        "      output.append(to_text(q))\n",
        "  return ''.join(np.asarray(output))\n",
        "\n",
        "def decipher(msg, key):\n",
        "  #tamanho da tabela UTF-8, ao inves de 26 letras do alfabeto\n",
        "  upperlimit = 1112064\n",
        "\n",
        "  key = np.asarray(KEY)\n",
        "\n",
        "  det = key[0,0]*key[1,1] - key[0,1]*key[1,0]\n",
        "  m = det%upperlimit\n",
        "  m = modinv(m, upperlimit)\n",
        "\n",
        "  antikey = [ [key[1,1], -key[0,1]], [-key[1,0], key[0,0]] ]\n",
        "  antikey = np.asarray(antikey)\n",
        "  antikey = (m*antikey)%upperlimit\n",
        "\n",
        "  input = to_array(msg)\n",
        "  output = []\n",
        "\n",
        "  for i in range(len(input)):\n",
        "    if i%2==0:\n",
        "      q = to_2_1_matrix(input, i)\n",
        "      p = np.matmul(antikey,q)\n",
        "      p = p%upperlimit\n",
        "      output.append(to_text(p))\n",
        "  return ''.join(np.asarray(output))"
      ],
      "metadata": {
        "id": "p_eUU6rE9klb"
      },
      "execution_count": null,
      "outputs": []
    },
    {
      "cell_type": "markdown",
      "source": [
        "## Execução"
      ],
      "metadata": {
        "id": "5ULD9AiOVkVw"
      }
    },
    {
      "cell_type": "code",
      "source": [
        "TEXTOCIFRADO = cipher(TEXTOCLARO, KEY)\n",
        "TEXTOCIFRADO"
      ],
      "metadata": {
        "colab": {
          "base_uri": "https://localhost:8080/",
          "height": 35
        },
        "id": "_302ak-1-uiM",
        "outputId": "2863e6c2-1371-483a-b48b-a96dee5f4eb5"
      },
      "execution_count": null,
      "outputs": [
        {
          "output_type": "execute_result",
          "data": {
            "text/plain": [
              "'̐ɣŕȴͷ̰̅ˣٿ̻ɐŰ̡ˀͻ̕ČĐΎ̖η˲\\u0383˪ˣƯōȔͬ˙͆˰ڶщƠț͵˽ĎĘ'"
            ],
            "application/vnd.google.colaboratory.intrinsic+json": {
              "type": "string"
            }
          },
          "metadata": {},
          "execution_count": 119
        }
      ]
    },
    {
      "cell_type": "code",
      "source": [
        "TEXTODECIFRADO = decipher(TEXTOCIFRADO, KEY)\n",
        "TEXTODECIFRADO"
      ],
      "metadata": {
        "colab": {
          "base_uri": "https://localhost:8080/",
          "height": 35
        },
        "id": "fjQ0SGKkNmmW",
        "outputId": "b24ef200-43cf-4b12-e5f0-9f0e3268c2e2"
      },
      "execution_count": null,
      "outputs": [
        {
          "output_type": "execute_result",
          "data": {
            "text/plain": [
              "'Meu nome é Pedro, prazer em conheçe-lo. '"
            ],
            "application/vnd.google.colaboratory.intrinsic+json": {
              "type": "string"
            }
          },
          "metadata": {},
          "execution_count": 120
        }
      ]
    }
  ]
}