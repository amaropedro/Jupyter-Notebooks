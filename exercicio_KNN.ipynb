{
  "nbformat": 4,
  "nbformat_minor": 0,
  "metadata": {
    "colab": {
      "provenance": []
    },
    "kernelspec": {
      "name": "python3",
      "display_name": "Python 3"
    },
    "language_info": {
      "name": "python"
    }
  },
  "cells": [
    {
      "cell_type": "markdown",
      "metadata": {
        "id": "uc-_61zI7qwO"
      },
      "source": [
        "Implementação do Algoritimo KNN"
      ]
    },
    {
      "cell_type": "code",
      "metadata": {
        "id": "BwWlAEtb4eIc"
      },
      "source": [
        "import math"
      ],
      "execution_count": null,
      "outputs": []
    },
    {
      "cell_type": "code",
      "metadata": {
        "colab": {
          "base_uri": "https://localhost:8080/"
        },
        "id": "OdvLdBp6zoTj",
        "outputId": "a2f02dca-bc8b-43c2-dd84-6b591b796d1b"
      },
      "source": [
        "X = []\n",
        "K = input('Digite o valor de K: ')\n",
        "aux = 'a'\n",
        "\n",
        "while aux != 's' and aux != 'n':\n",
        "  aux = input('Deseja inserir o valor a analisar? caso contario usará valor padrão s/n: ')\n",
        "\n",
        "if aux == 's':\n",
        "  X.append(float(input('digite o primeiro valor: ')))\n",
        "  X.append(float(input('digite o segundo valor: ')))\n",
        "  X.append(float(input('digite o terceiro valor: ')))\n",
        "else:\n",
        "  X = [0.5, 0, 0.25]\n",
        "\n",
        "print('valor analisado: ' + str(X))\n",
        "print(knn(X,K))"
      ],
      "execution_count": null,
      "outputs": [
        {
          "output_type": "stream",
          "text": [
            "Digite o valor de K: 1\n",
            "Deseja inserir o valor a analisar? caso contario usará valor padrão s/n: n\n",
            "valor analisado: [0.5, 0, 0.25]\n",
            "Saudável\n"
          ],
          "name": "stdout"
        }
      ]
    },
    {
      "cell_type": "code",
      "metadata": {
        "id": "R0lEXJIe0D66"
      },
      "source": [
        "def knn(x, k):\n",
        "  healthy = 0\n",
        "  sick = 0\n",
        "  cont = 0\n",
        "  dist = []\n",
        "  #doente = 1 e saudável = 2\n",
        "  Data = [ [0, 1, 0.75, 1], [0.5, 0, 0.5, 2], [1, 1, 0.75, 1], [1, 0, 0, 2], [0, 0, 1, 1] ]\n",
        "\n",
        "  for A in Data:\n",
        "    dist.append( [math.sqrt((x[0]-A[0])**2 + (x[1]-A[1])**2 + (x[2]-A[2])**2), A[3]] )\n",
        "  \n",
        "  dist.sort()\n",
        "  dist = dist[:int(k)]\n",
        "\n",
        "  for i in dist:\n",
        "    if i[1] == 1:\n",
        "      sick += 1\n",
        "    else:\n",
        "      healthy += 1\n",
        "\n",
        "  if sick > healthy:\n",
        "    return 'Doente'\n",
        "  else:\n",
        "    return 'Saudável'"
      ],
      "execution_count": null,
      "outputs": []
    }
  ]
}