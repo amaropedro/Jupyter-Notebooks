{
  "nbformat": 4,
  "nbformat_minor": 0,
  "metadata": {
    "colab": {
      "provenance": [],
      "collapsed_sections": [
        "M7kJhcEA1Li9",
        "G2EM0Zk-1ZZk"
      ]
    },
    "kernelspec": {
      "name": "python3",
      "display_name": "Python 3"
    },
    "language_info": {
      "name": "python"
    }
  },
  "cells": [
    {
      "cell_type": "markdown",
      "source": [
        "# Atividade de Criptografia: N1.5 - Quebrando o RSA\n",
        "Pedro Amaro"
      ],
      "metadata": {
        "id": "-0pd364m1H7Y"
      }
    },
    {
      "cell_type": "markdown",
      "source": [
        "## Fatorando n = 46222907"
      ],
      "metadata": {
        "id": "M7kJhcEA1Li9"
      }
    },
    {
      "cell_type": "code",
      "source": [
        "from sympy import nextprime\n",
        "from sympy.ntheory import isprime"
      ],
      "metadata": {
        "id": "Wcz11YoGuc--"
      },
      "execution_count": null,
      "outputs": []
    },
    {
      "cell_type": "code",
      "execution_count": null,
      "metadata": {
        "id": "LR0PWpGCrfP-"
      },
      "outputs": [],
      "source": [
        "n = 46222907\n",
        "p = 11\n",
        "q = 17"
      ]
    },
    {
      "cell_type": "code",
      "source": [
        "while n%p!=0:\n",
        "  p = nextprime(p)\n",
        "\n",
        "print(p)"
      ],
      "metadata": {
        "colab": {
          "base_uri": "https://localhost:8080/"
        },
        "id": "DZcqv-uQsKEj",
        "outputId": "ed3418a9-6707-4096-ac60-089343fd5415"
      },
      "execution_count": null,
      "outputs": [
        {
          "output_type": "stream",
          "name": "stdout",
          "text": [
            "6043\n"
          ]
        }
      ]
    },
    {
      "cell_type": "code",
      "source": [
        "n/p"
      ],
      "metadata": {
        "colab": {
          "base_uri": "https://localhost:8080/"
        },
        "id": "zoMya9Ng0NMw",
        "outputId": "279c980f-ad39-4eb1-8862-8eb721c483b5"
      },
      "execution_count": null,
      "outputs": [
        {
          "output_type": "execute_result",
          "data": {
            "text/plain": [
              "7649.0"
            ]
          },
          "metadata": {},
          "execution_count": 20
        }
      ]
    },
    {
      "cell_type": "code",
      "source": [
        "isprime(7649)"
      ],
      "metadata": {
        "colab": {
          "base_uri": "https://localhost:8080/"
        },
        "id": "8J7_vjXw0mxw",
        "outputId": "595e172d-9f31-4fcd-b92a-ee887766cf5b"
      },
      "execution_count": null,
      "outputs": [
        {
          "output_type": "execute_result",
          "data": {
            "text/plain": [
              "True"
            ]
          },
          "metadata": {},
          "execution_count": 22
        }
      ]
    },
    {
      "cell_type": "code",
      "source": [
        "p = 6043\n",
        "q = 7649\n",
        "p*q == n"
      ],
      "metadata": {
        "colab": {
          "base_uri": "https://localhost:8080/"
        },
        "id": "IxfYBn2P0qmW",
        "outputId": "03e47a3f-4086-45aa-ac36-5429b22d5d01"
      },
      "execution_count": null,
      "outputs": [
        {
          "output_type": "execute_result",
          "data": {
            "text/plain": [
              "True"
            ]
          },
          "metadata": {},
          "execution_count": 23
        }
      ]
    },
    {
      "cell_type": "markdown",
      "source": [
        "## Encontrando d"
      ],
      "metadata": {
        "id": "G2EM0Zk-1ZZk"
      }
    },
    {
      "cell_type": "code",
      "source": [
        "#https://stackoverflow.com/questions/4798654/modular-multiplicative-inverse-function-in-python\n",
        "def egcd(a, b):\n",
        "    if a == 0:\n",
        "        return (b, 0, 1)\n",
        "    else:\n",
        "        g, y, x = egcd(b % a, a)\n",
        "        return (g, x - (b // a) * y, y)\n",
        "\n",
        "def modinv(a, m):\n",
        "    g, x, y = egcd(a, m)\n",
        "    if g != 1:\n",
        "        raise Exception('O inverso modular não existe.')\n",
        "    else:\n",
        "        return x % m"
      ],
      "metadata": {
        "id": "Su1yrZzx5ENW"
      },
      "execution_count": null,
      "outputs": []
    },
    {
      "cell_type": "code",
      "source": [
        "e = 65537"
      ],
      "metadata": {
        "id": "HLgEBNtT1hof"
      },
      "execution_count": null,
      "outputs": []
    },
    {
      "cell_type": "code",
      "source": [
        "phi = (p-1)*(q-1)\n",
        "phi"
      ],
      "metadata": {
        "colab": {
          "base_uri": "https://localhost:8080/"
        },
        "id": "xOPUhKyy0_vg",
        "outputId": "079117ae-fa5b-4f64-a6c0-be3b9f50d184"
      },
      "execution_count": null,
      "outputs": [
        {
          "output_type": "execute_result",
          "data": {
            "text/plain": [
              "46209216"
            ]
          },
          "metadata": {},
          "execution_count": 25
        }
      ]
    },
    {
      "cell_type": "code",
      "source": [
        "d = modinv(e, phi)\n",
        "d"
      ],
      "metadata": {
        "colab": {
          "base_uri": "https://localhost:8080/"
        },
        "id": "jiqDuk-f1mLg",
        "outputId": "a0e08698-09f2-4839-b7bb-d546b7b2aac5"
      },
      "execution_count": null,
      "outputs": [
        {
          "output_type": "execute_result",
          "data": {
            "text/plain": [
              "12965825"
            ]
          },
          "metadata": {},
          "execution_count": 32
        }
      ]
    },
    {
      "cell_type": "code",
      "source": [
        "(e*d)%phi"
      ],
      "metadata": {
        "colab": {
          "base_uri": "https://localhost:8080/"
        },
        "id": "ykCMnibd5Xif",
        "outputId": "1ca6b1bd-6af8-4a8a-f079-f8c2b15a2d75"
      },
      "execution_count": null,
      "outputs": [
        {
          "output_type": "execute_result",
          "data": {
            "text/plain": [
              "1"
            ]
          },
          "metadata": {},
          "execution_count": 33
        }
      ]
    },
    {
      "cell_type": "markdown",
      "source": [
        "## Encontrando a chave"
      ],
      "metadata": {
        "id": "183l1ap86Nl2"
      }
    },
    {
      "cell_type": "code",
      "source": [
        "n = 46222907\n",
        "phi = 46209216\n",
        "d = 12965825\n",
        "e = 65537"
      ],
      "metadata": {
        "id": "Mx9W_TVR62TZ"
      },
      "execution_count": null,
      "outputs": []
    },
    {
      "cell_type": "code",
      "source": [
        "(e*d)%phi"
      ],
      "metadata": {
        "colab": {
          "base_uri": "https://localhost:8080/"
        },
        "id": "QM2Aj-fT7Fk4",
        "outputId": "54810a1f-3696-49d3-e38c-4b359dacaf70"
      },
      "execution_count": null,
      "outputs": [
        {
          "output_type": "execute_result",
          "data": {
            "text/plain": [
              "1"
            ]
          },
          "metadata": {},
          "execution_count": 37
        }
      ]
    },
    {
      "cell_type": "code",
      "source": [
        "#sendo C = 35191279 28831642 6113081 36161830\n",
        "C1 = 35191279\n",
        "C2 = 28831642\n",
        "C3 = 6113081\n",
        "C4 = 36161830"
      ],
      "metadata": {
        "id": "C9U8vMj96Ptu"
      },
      "execution_count": null,
      "outputs": []
    },
    {
      "cell_type": "code",
      "source": [
        "#por aqui (pow function) demorou, fiz pelo wolframalpha\n",
        "#https://www.wolframalpha.com/input?i2d=true&i=Power%5B35191279%2C12965825%5D+mod+46222907\n",
        "M1 = 838\n",
        "\n",
        "#https://www.wolframalpha.com/input?i2d=true&i=Power%5B28831642%2C12965825%5D+mod+46222907\n",
        "M2 = 468\n",
        "\n",
        "#https://www.wolframalpha.com/input?i2d=true&i=Power%5B6113081%2C12965825%5D+mod+46222907\n",
        "M3 = 495\n",
        "\n",
        "#https://www.wolframalpha.com/input?i2d=true&i=Power%5B36161830%2C12965825%5D+mod+46222907\n",
        "M4 = 400\n",
        "\n",
        "#Dessa forma,\n",
        "M = 838468495400\n",
        "# Chave = 83 84 68 49 54"
      ],
      "metadata": {
        "id": "UASxh4CX8nhi"
      },
      "execution_count": null,
      "outputs": []
    },
    {
      "cell_type": "code",
      "source": [
        "#pela tabela ascii\n",
        "# Chave = STD16"
      ],
      "metadata": {
        "id": "HDGIQZg5-rih"
      },
      "execution_count": null,
      "outputs": []
    }
  ]
}