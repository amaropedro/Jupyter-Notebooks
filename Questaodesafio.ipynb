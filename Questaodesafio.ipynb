{
  "nbformat": 4,
  "nbformat_minor": 0,
  "metadata": {
    "colab": {
      "provenance": []
    },
    "kernelspec": {
      "display_name": "Python 3",
      "name": "python3"
    },
    "language_info": {
      "name": "python"
    }
  },
  "cells": [
    {
      "cell_type": "code",
      "metadata": {
        "id": "eZQUrHjMk9Yv"
      },
      "source": [
        "#Primeiramente, construindo a base de treinamento:\n",
        "A = {(0,0):0, \n",
        "     (0,1):0, \n",
        "     (1,0):0, \n",
        "     (1,1):1}     #AND\n",
        "\n",
        "O = {(0,0):0, \n",
        "     (0,1):1, \n",
        "     (1,0):1, \n",
        "     (1,1):1}     #OR"
      ],
      "execution_count": null,
      "outputs": []
    },
    {
      "cell_type": "markdown",
      "metadata": {
        "id": "xBJi0BRmp3R7"
      },
      "source": [
        "# **Funções Complementares:**"
      ]
    },
    {
      "cell_type": "code",
      "metadata": {
        "id": "vFABUZjf1lUp"
      },
      "source": [
        "#Função escolha:\n",
        "def escolha():\n",
        "  print(\"Oi, insira 1 para função E e 2 para a função OU\")\n",
        "  escolha = input()\n",
        "  if (escolha == '1'):\n",
        "    return A\n",
        "  if (escolha == '2'):\n",
        "    return O\n",
        "  else:\n",
        "    exit()"
      ],
      "execution_count": null,
      "outputs": []
    },
    {
      "cell_type": "code",
      "metadata": {
        "id": "1R3dbfT-p1h9"
      },
      "source": [
        "#Função de pré-ativação {h(x)}:\n",
        "def h(x,W):\n",
        "  sum = 0\n",
        "  for i in range(0,2):\n",
        "    sum += W[i]*x[i]\n",
        "    sum -= b\n",
        "  return sum"
      ],
      "execution_count": null,
      "outputs": []
    },
    {
      "cell_type": "code",
      "metadata": {
        "id": "F_qLsraPqonk"
      },
      "source": [
        "#Função de ativação {g(h(x))}:\n",
        "def g(x):\n",
        "  if (x >= 0):\n",
        "    return 1\n",
        "  else:\n",
        "    return 0"
      ],
      "execution_count": null,
      "outputs": []
    },
    {
      "cell_type": "markdown",
      "metadata": {
        "id": "gzO_IMgEwms3"
      },
      "source": [
        "# **Função principal:**"
      ]
    },
    {
      "cell_type": "code",
      "metadata": {
        "colab": {
          "base_uri": "https://localhost:8080/"
        },
        "id": "VT6zG1JewycO",
        "outputId": "8928ac64-307d-47a7-ce0a-08ec8127be11"
      },
      "source": [
        "X = [ (0,0),\n",
        "      (0,1),\n",
        "      (1,0),\n",
        "      (1,1)]\n",
        "\n",
        "global b \n",
        "b=0\n",
        "W = [0,0]\n",
        "\n",
        "C = escolha()\n",
        "\n",
        "rodada = 0\n",
        "while(rodada<5):\n",
        "  i=0\n",
        "  while(i<4):\n",
        "    o = g(h(X[i], W))                               \n",
        "    if o != C[X[i]]:                                \n",
        "      a = 0\n",
        "      while(a < 2):                                 \n",
        "        W[a] += 0.4 * (C[X[i]] - o) * X[i][a]\n",
        "        a += 1\n",
        "      b += 0.4 * (C[X[i]] - o) * -1\n",
        "    i+=1\n",
        "  rodada += 1\n",
        "\n",
        "print(\"\\n\")\n",
        "print(\"Resultados:\")\n",
        "print(g(h([0,0], W)))\n",
        "print(g(h([0,1], W)))\n",
        "print(g(h([1,0], W)))\n",
        "print(g(h([1,1], W)))"
      ],
      "execution_count": null,
      "outputs": [
        {
          "output_type": "stream",
          "text": [
            "Oi, insira 1 para função E e 2 para a função OU\n",
            "2\n",
            "\n",
            "\n",
            "Resultados:\n",
            "0\n",
            "1\n",
            "1\n",
            "1\n"
          ],
          "name": "stdout"
        }
      ]
    }
  ]
}