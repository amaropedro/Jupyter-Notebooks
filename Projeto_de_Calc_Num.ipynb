{
  "nbformat": 4,
  "nbformat_minor": 0,
  "metadata": {
    "colab": {
      "provenance": [],
      "collapsed_sections": [
        "XlnuWqWZkYke",
        "jy3POp2zldO9",
        "1K97V8jAoVoo",
        "5CGOOcfElfpK",
        "iOsp4nQ3x20b",
        "Gnl9f0ovzZiN",
        "FNgaBFh_LASb",
        "bYrBmczpLD-z",
        "Z6f1fpjwzlyz",
        "UwYn_D2720TS",
        "KDJOb7dk20TX",
        "L2SjDeie3SDt",
        "aBSE9g_gzqna",
        "wJq7vM--BgDW",
        "7uhRiJYGBieu"
      ]
    },
    "kernelspec": {
      "name": "python3",
      "display_name": "Python 3"
    },
    "language_info": {
      "name": "python"
    }
  },
  "cells": [
    {
      "cell_type": "markdown",
      "source": [
        "#Projeto de Calculo Numerico\n",
        "Grupo:\n",
        "\n",
        "\n",
        "*   Pedro Henrique Amaro Ferreira Lacerda\n",
        "*   Julia Maria\n",
        "*   Jonathan Pablo\n"
      ],
      "metadata": {
        "id": "kD321m7VkKB4"
      }
    },
    {
      "cell_type": "markdown",
      "source": [
        "## Questão 1\n",
        "Topico 1, questão 2. </br>\n",
        "Respondido por Pedro Amaro."
      ],
      "metadata": {
        "id": "XlnuWqWZkYke"
      }
    },
    {
      "cell_type": "markdown",
      "source": [
        "### Imports"
      ],
      "metadata": {
        "id": "jy3POp2zldO9"
      }
    },
    {
      "cell_type": "code",
      "source": [
        "import numpy as np\n",
        "from numpy import linalg\n",
        "import pprint"
      ],
      "metadata": {
        "id": "2r9hi9rhlcH9"
      },
      "execution_count": null,
      "outputs": []
    },
    {
      "cell_type": "markdown",
      "source": [
        "### Declarações"
      ],
      "metadata": {
        "id": "1K97V8jAoVoo"
      }
    },
    {
      "cell_type": "code",
      "source": [
        "class Matrix_nxn:\n",
        "  def __init__(self, n):\n",
        "    self.n = n\n",
        "    self.m = 0\n",
        "    self.q = 0\n",
        "    self.args = {}\n",
        "    self.estoque = {}\n",
        "    self.Matrix = []\n",
        "    self.quantidades = []\n",
        "\n",
        "  def add(self, nome, array):\n",
        "    if self.m <= self.n:\n",
        "      self.args.update({nome:array})\n",
        "      self.Matrix.append(array)\n",
        "      self.m = self.m+1\n",
        "    else:\n",
        "      print(\"Matriz nxn está cheia. Declare uma matriz maior para inserir mais dados.\")\n",
        "\n",
        "  def add_estoque(self, nome, quant):\n",
        "    if self.q <= self.n:\n",
        "      self.quantidades.append(quant)\n",
        "      self.estoque.update({nome:quant})\n",
        "      self.q = self.q+1\n",
        "    else:\n",
        "      print(\"Matriz nxn está cheia. Declare uma matriz maior para inserir mais dados.\")\n",
        "  \n",
        "  def dados(self):\n",
        "    pprint.pprint(self.args)\n",
        "    pprint.pprint(self.estoque)\n",
        "\n",
        "  def resolva(self):\n",
        "    a = np.asarray(self.Matrix)\n",
        "    b = np.asarray(self.quantidades)\n",
        "    print(linalg.solve(a,b))"
      ],
      "metadata": {
        "id": "v9PHNEI5oYXM"
      },
      "execution_count": null,
      "outputs": []
    },
    {
      "cell_type": "markdown",
      "source": [
        "### Entrada de dados"
      ],
      "metadata": {
        "id": "5CGOOcfElfpK"
      }
    },
    {
      "cell_type": "code",
      "source": [
        "M = Matrix_nxn(3)"
      ],
      "metadata": {
        "id": "xdF8ckMaqotg"
      },
      "execution_count": null,
      "outputs": []
    },
    {
      "cell_type": "code",
      "source": [
        "M.add('Metal', [15, 17, 19])\n",
        "M.add('Plastico', [0.3, 0.4, 0.55])\n",
        "M.add('Borracha', [1, 1.2, 1.5])\n",
        "M.add_estoque('Metal', 3.89)\n",
        "M.add_estoque('Plastico', 0.095)\n",
        "M.add_estoque('Borracha', 0.282)\n",
        "M.dados()"
      ],
      "metadata": {
        "colab": {
          "base_uri": "https://localhost:8080/"
        },
        "id": "W4I0XaHLq4-g",
        "outputId": "05a3a1e6-8a41-426c-f8f6-27949ae3cc05"
      },
      "execution_count": null,
      "outputs": [
        {
          "output_type": "stream",
          "name": "stdout",
          "text": [
            "{'Borracha': [1, 1.2, 1.5], 'Metal': [15, 17, 19], 'Plastico': [0.3, 0.4, 0.55]}\n",
            "{'Borracha': 0.282, 'Metal': 3.89, 'Plastico': 0.095}\n"
          ]
        }
      ]
    },
    {
      "cell_type": "code",
      "source": [
        "print(M.Matrix)\n",
        "print(M.quantidades)"
      ],
      "metadata": {
        "colab": {
          "base_uri": "https://localhost:8080/"
        },
        "id": "-Gm8LiD1vry9",
        "outputId": "2462ca0d-dbdb-4cd4-d980-192a81aebaa6"
      },
      "execution_count": null,
      "outputs": [
        {
          "output_type": "stream",
          "name": "stdout",
          "text": [
            "[[15, 17, 19], [0.3, 0.4, 0.55], [1, 1.2, 1.5]]\n",
            "[3.89, 0.095, 0.282]\n"
          ]
        }
      ]
    },
    {
      "cell_type": "code",
      "source": [
        "M.resolva()"
      ],
      "metadata": {
        "colab": {
          "base_uri": "https://localhost:8080/"
        },
        "id": "dR4ilOzhxqFB",
        "outputId": "8b0194ce-8922-4a75-c580-80a192d74c42"
      },
      "execution_count": null,
      "outputs": [
        {
          "output_type": "stream",
          "name": "stdout",
          "text": [
            "[0.09 0.06 0.08]\n"
          ]
        }
      ]
    },
    {
      "cell_type": "markdown",
      "source": [
        "###Teste\n",
        "Resolve a questão 1 da segunda lista da unidade 2."
      ],
      "metadata": {
        "id": "iOsp4nQ3x20b"
      }
    },
    {
      "cell_type": "code",
      "source": [
        "M = Matrix_nxn(3)"
      ],
      "metadata": {
        "id": "MtAL13dgx4Df"
      },
      "execution_count": null,
      "outputs": []
    },
    {
      "cell_type": "code",
      "source": [
        "M.add('A', [1, 2, 3])\n",
        "M.add('B', [2, 0, 1])\n",
        "M.add('C', [4, 1, 2])\n",
        "M.add_estoque('A', 16)\n",
        "M.add_estoque('B', 13)\n",
        "M.add_estoque('C', 27)\n",
        "M.dados()"
      ],
      "metadata": {
        "colab": {
          "base_uri": "https://localhost:8080/"
        },
        "id": "9KzsGZ6Ox-cP",
        "outputId": "63303387-9c06-4d0b-eb68-ff911c421733"
      },
      "execution_count": null,
      "outputs": [
        {
          "output_type": "stream",
          "name": "stdout",
          "text": [
            "{'A': [1, 2, 3], 'B': [2, 0, 1], 'C': [4, 1, 2]}\n",
            "{'A': 16, 'B': 13, 'C': 27}\n"
          ]
        }
      ]
    },
    {
      "cell_type": "code",
      "source": [
        "M.resolva()"
      ],
      "metadata": {
        "colab": {
          "base_uri": "https://localhost:8080/"
        },
        "id": "7ovAPwZTyO1V",
        "outputId": "7cba4913-79a8-4483-d08c-f9f22ca393f5"
      },
      "execution_count": null,
      "outputs": [
        {
          "output_type": "stream",
          "name": "stdout",
          "text": [
            "[5. 1. 3.]\n"
          ]
        }
      ]
    },
    {
      "cell_type": "code",
      "source": [],
      "metadata": {
        "id": "NjsQB2hqzp5r"
      },
      "execution_count": null,
      "outputs": []
    },
    {
      "cell_type": "code",
      "source": [],
      "metadata": {
        "id": "zMOehncrHvJV"
      },
      "execution_count": null,
      "outputs": []
    },
    {
      "cell_type": "markdown",
      "source": [
        "## Questão 2\n",
        "Questão 2, tópico 2\n",
        "\n",
        "Respondida por Júlia Maria\n",
        "\n",
        "\n",
        "\n",
        "\n"
      ],
      "metadata": {
        "id": "Gnl9f0ovzZiN"
      }
    },
    {
      "cell_type": "markdown",
      "source": [
        "### versão texto"
      ],
      "metadata": {
        "id": "FNgaBFh_LASb"
      }
    },
    {
      "cell_type": "markdown",
      "source": [
        "```\n",
        "from __future__ import division  \n",
        "import numpy as np  \n",
        "import os\n",
        "from numpy import array, zeros, diag, diagflat, dot\n",
        "\n",
        "def jacobi(A,b,it,x0 = None):\n",
        "    x = zeros(len(A[0]))    #cria um vetor de zeros que irá receber os resultados das iterações\n",
        "    D = diag(A)             #pega os elementos da diagonal principal de A e põe em um vetor\n",
        "    R = A - diagflat(D)     #pega os elementos do vetor D e põe em uma matriz quadrada escalonada\n",
        "\n",
        "    # Faz o número de iterações desejado pelo usuário\n",
        "    for i in range(0,it):\n",
        "        x = (b - dot(R,x)) / D  \n",
        "                    \n",
        "    return x\n",
        "\n",
        " \n",
        "def gauss_seidel(A,b,x0,tol,N):  \n",
        "    n=np.shape(A)[0]  #retornar o número de linhas em 'A'\n",
        "    x = np.copy(x0)   # faz uma cópia de X0\n",
        "    it = 0   \n",
        "    #iteracoes  \n",
        "    while (it < N):  \n",
        "        it = it+1  \n",
        "        #iteracao de Jacobi. No bloco abaixo , o valor de x[i] é atualizado a cada interação com base em x[j]\n",
        "        for i in np.arange(n):  \n",
        "            x[i] = b[i]  \n",
        "            for j in np.concatenate((np.arange(0,i),np.arange(i+1,n))):  \n",
        "                x[i] -= A[i][j]*x[j]  \n",
        "            x[i] /= A[i][i]   \n",
        "        #tolerancia  \n",
        "        if (np.linalg.norm(x-x0,np.inf) < tol):  \n",
        "            return x  \n",
        "        #prepara nova iteracao  \n",
        "        x0 = np.copy(x)  \n",
        "    raise NameError('num. max. de iteracoes excedido.')\n",
        "    \n",
        "#-=-=-=-=-=-=-=-=-=-=-=-=-=-=-=-=-=-=-=-=-=-=-=-=-=-=-=-=-=-=-=-=-=-=-=-=-=-=-=-=-=-=-=-=-=-=-=-=-=-=-==--=-\n",
        "eq = int(input('Digite o número de equações do sistema: '))\n",
        "co = int(input('Digite o número de coeficientes do sistema: '))\n",
        "os.system('cls')\n",
        "\n",
        "aux = []\n",
        "A = []\n",
        "b = []\n",
        "x0 = []\n",
        "for i in range(0, eq):\n",
        "    for j in range(0, co):\n",
        "        aux2 = float(input('Digite o coeficiente A{}{} do sistema:  '.format(i+1, j+1)))    \n",
        "        aux.append(aux2)\n",
        "    A.append(aux)\n",
        "    aux = []\n",
        "    aux2 = float(input('Digite o coeficiente B{} do sistema:    '.format(i+1)))\n",
        "    os.system('cls')\n",
        "    b.append(aux2)\n",
        "os.system('cls')   \n",
        "\n",
        "\n",
        "#=-=-=-=-=-=-=-=-=-=-=-=-=-=-=-=-=-=-=-=-=-=-=-=-=-=-=-=-=-=-=-=-=-=-=-=-=-=-=-=-=-=-=-=-=-=-=-=-=-=-=\n",
        "\n",
        "print('\\t\\tSelecione o método iterativo desejado\\n\\n')\n",
        "print('1_\\tMétodo de Gauss-Seidel\\n')\n",
        "print('2_\\tMétodo de Gauss-Jacobi\\n\\n')\n",
        "\n",
        "aux = int(input('\\n->\\t'))\n",
        "if aux == 1:\n",
        "    tol = float(input('Digite a tolerância desejada: '))\n",
        "    N = int(input('Digite o número máximo de iterações: '))\n",
        "    for c in range(0, co):\n",
        "        aux = float(input('Digite o valor inicial do coeficiente x{}: '.format(c+1)))\n",
        "        x0.append(aux)\n",
        "    os.system('cls')\n",
        "    result = gauss_seidel(A, b, x0, tol, N)\n",
        "    for c in range(0, len(A)):\n",
        "        print('x{}  =   {}'.format(c+1, result[c]))\n",
        "\n",
        "elif aux == 2:\n",
        "    it = int(input('Digite o número de iterações desejada: '))\n",
        "    x0 = 0\n",
        "    result = jacobi(A, b, it, x0)\n",
        "    for c in range(0, len(A)):\n",
        "        print('x{}  =   {}'.format(c+1, result[c]))\n",
        "\n",
        "else:\n",
        "    print('\\n\\t\\tOpção inválida!')\n",
        "    exit()\n",
        "\n",
        "```"
      ],
      "metadata": {
        "id": "im-vjzzrK8ns"
      }
    },
    {
      "cell_type": "markdown",
      "source": [
        "### versão executavel"
      ],
      "metadata": {
        "id": "bYrBmczpLD-z"
      }
    },
    {
      "cell_type": "code",
      "source": [
        "from __future__ import division  \n",
        "import numpy as np  \n",
        "import os\n",
        "from numpy import array, zeros, diag, diagflat, dot\n",
        "\n",
        "def jacobi(A,b,it,x0 = None):\n",
        "    x = zeros(len(A[0]))    #cria um vetor de zeros que irá receber os resultados das iterações\n",
        "    D = diag(A)             #pega os elementos da diagonal principal de A e põe em um vetor\n",
        "    R = A - diagflat(D)     #pega os elementos do vetor D e põe em uma matriz quadrada escalonada\n",
        "\n",
        "    # Faz o número de iterações desejado pelo usuário\n",
        "    for i in range(0,it):\n",
        "        x = (b - dot(R,x)) / D  \n",
        "                    \n",
        "    return x\n",
        "\n",
        " \n",
        "def gauss_seidel(A,b,x0,tol,N):  \n",
        "    n=np.shape(A)[0]  #retornar o número de linhas em 'A'\n",
        "    x = np.copy(x0)   # faz uma cópia de X0\n",
        "    it = 0   \n",
        "    #iteracoes  \n",
        "    while (it < N):  \n",
        "        it = it+1  \n",
        "        #iteracao de Jacobi. No bloco abaixo , o valor de x[i] é atualizado a cada interação com base em x[j]\n",
        "        for i in np.arange(n):  \n",
        "            x[i] = b[i]  \n",
        "            for j in np.concatenate((np.arange(0,i),np.arange(i+1,n))):  \n",
        "                x[i] -= A[i][j]*x[j]  \n",
        "            x[i] /= A[i][i]   \n",
        "        #tolerancia  \n",
        "        if (np.linalg.norm(x-x0,np.inf) < tol):  \n",
        "            return x  \n",
        "        #prepara nova iteracao  \n",
        "        x0 = np.copy(x)  \n",
        "    raise NameError('num. max. de iteracoes excedido.')\n",
        "    \n",
        "#-=-=-=-=-=-=-=-=-=-=-=-=-=-=-=-=-=-=-=-=-=-=-=-=-=-=-=-=-=-=-=-=-=-=-=-=-=-=-=-=-=-=-=-=-=-=-=-=-=-=-==--=-\n",
        "eq = int(input('Digite o número de equações do sistema: '))\n",
        "co = int(input('Digite o número de coeficientes do sistema: '))\n",
        "os.system('cls')\n",
        "\n",
        "aux = []\n",
        "A = []\n",
        "b = []\n",
        "x0 = []\n",
        "for i in range(0, eq):\n",
        "    for j in range(0, co):\n",
        "        aux2 = float(input('Digite o coeficiente A{}{} do sistema:  '.format(i+1, j+1)))    \n",
        "        aux.append(aux2)\n",
        "    A.append(aux)\n",
        "    aux = []\n",
        "    aux2 = float(input('Digite o coeficiente B{} do sistema:    '.format(i+1)))\n",
        "    os.system('cls')\n",
        "    b.append(aux2)\n",
        "os.system('cls')   \n",
        "\n",
        "\n",
        "#=-=-=-=-=-=-=-=-=-=-=-=-=-=-=-=-=-=-=-=-=-=-=-=-=-=-=-=-=-=-=-=-=-=-=-=-=-=-=-=-=-=-=-=-=-=-=-=-=-=-=\n",
        "\n",
        "print('\\t\\tSelecione o método iterativo desejado\\n\\n')\n",
        "print('1_\\tMétodo de Gauss-Seidel\\n')\n",
        "print('2_\\tMétodo de Gauss-Jacobi\\n\\n')\n",
        "\n",
        "aux = int(input('\\n->\\t'))\n",
        "if aux == 1:\n",
        "    tol = float(input('Digite a tolerância desejada: '))\n",
        "    N = int(input('Digite o número máximo de iterações: '))\n",
        "    for c in range(0, co):\n",
        "        aux = float(input('Digite o valor inicial do coeficiente x{}: '.format(c+1)))\n",
        "        x0.append(aux)\n",
        "    os.system('cls')\n",
        "    result = gauss_seidel(A, b, x0, tol, N)\n",
        "    for c in range(0, len(A)):\n",
        "        print('x{}  =   {}'.format(c+1, result[c]))\n",
        "\n",
        "elif aux == 2:\n",
        "    it = int(input('Digite o número de iterações desejada: '))\n",
        "    x0 = 0\n",
        "    result = jacobi(A, b, it, x0)\n",
        "    for c in range(0, len(A)):\n",
        "        print('x{}  =   {}'.format(c+1, result[c]))\n",
        "\n",
        "else:\n",
        "    print('\\n\\t\\tOpção inválida!')\n",
        "    exit()"
      ],
      "metadata": {
        "id": "_zvO523_J6C-"
      },
      "execution_count": null,
      "outputs": []
    },
    {
      "cell_type": "markdown",
      "source": [
        "## Questão 3\n",
        "Tópico 3, questão 1. </br>\n",
        "Respondido por Pedro Amaro."
      ],
      "metadata": {
        "id": "Z6f1fpjwzlyz"
      }
    },
    {
      "cell_type": "markdown",
      "source": [
        "### Imports"
      ],
      "metadata": {
        "id": "UwYn_D2720TS"
      }
    },
    {
      "cell_type": "code",
      "source": [
        "import numpy as np\n",
        "from numpy import linalg\n",
        "from matplotlib import pyplot as plt\n",
        "import math"
      ],
      "metadata": {
        "id": "gSayUbQt20TW"
      },
      "execution_count": null,
      "outputs": []
    },
    {
      "cell_type": "markdown",
      "source": [
        "### Declarações"
      ],
      "metadata": {
        "id": "KDJOb7dk20TX"
      }
    },
    {
      "cell_type": "code",
      "source": [
        "class Tabela:\n",
        "  def __init__(self):\n",
        "    self.a = [] # ano, nosso x\n",
        "    self.N = [] # numero de transistores, nosso f(x)\n",
        "    self.preva = []\n",
        "    self.prevN = [] \n",
        "  \n",
        "  def add(self, ano, num):\n",
        "    self.a.append(ano)\n",
        "    self.N.append(num)\n",
        "\n",
        "  def preveja_linear(self, ano):\n",
        "    a11 = len(self.a)\n",
        "    a12_21 = sum(self.a)\n",
        "    a22 = 0\n",
        "    for i in self.a:\n",
        "      a22 = a22 + i*i\n",
        "    b1 = sum(self.N)\n",
        "    b2 = 0\n",
        "    for i in range(a11):\n",
        "      b2 = b2 + self.N[i]*self.a[i]\n",
        "\n",
        "    A = np.array([[a11, a12_21], [a12_21, a22]])\n",
        "    B = np.array([b1, b2])\n",
        "    c1, c2 = linalg.solve(A,B)\n",
        "    y = c1+c2*ano\n",
        "\n",
        "    self.preva.append(ano)\n",
        "    self.prevN.append(y)\n",
        "    print(y)\n",
        "  \n",
        "  def preveja_exp(self, ano):\n",
        "      a11 = 0\n",
        "      b1 = 0\n",
        "      b2 = 0\n",
        "      \n",
        "      for i in self.a:\n",
        "        a11 = a11 + i*i\n",
        "\n",
        "      a12_21 = sum(self.a)\n",
        "\n",
        "      a22 = len(self.a)\n",
        "\n",
        "      for i in range(a22):\n",
        "        b1 = b1 + np.log(self.N[i])*self.a[i]\n",
        "      \n",
        "      for i in self.N:\n",
        "        b2 = b2 + np.log(i)\n",
        "\n",
        "      A = np.array([[a11, a12_21], [a12_21, a22]])\n",
        "      B = np.array([b1, b2])\n",
        "      c1, c2 = linalg.solve(A,B)\n",
        "      \n",
        "      A = math.exp(c2)\n",
        "      B = math.exp(c1)\n",
        "\n",
        "      y = (A)*(pow(B, ano))\n",
        "\n",
        "      self.preva.append(ano)\n",
        "      self.prevN.append(y)\n",
        "      print(y)\n",
        "\n",
        "  def dados(self):\n",
        "    print(self.a)\n",
        "    print(self.N)\n",
        "\n",
        "  def plot(self):\n",
        "    plt.plot(self.a, self.N)\n",
        "    plt.scatter(self.preva, self.prevN, color=\"orange\")\n",
        "    plt.show()"
      ],
      "metadata": {
        "id": "UhPwoq_020TX"
      },
      "execution_count": null,
      "outputs": []
    },
    {
      "cell_type": "markdown",
      "source": [
        "### Entrada de Dados"
      ],
      "metadata": {
        "id": "L2SjDeie3SDt"
      }
    },
    {
      "cell_type": "code",
      "source": [
        "T = Tabela()"
      ],
      "metadata": {
        "id": "asv1PcKZ3UBD"
      },
      "execution_count": null,
      "outputs": []
    },
    {
      "cell_type": "code",
      "source": [
        "T.add(1971, 2250)\n",
        "T.add(1972, 3300)\n",
        "T.add(1974, 6000)\n",
        "T.add(1978, 29000)\n",
        "T.add(1982, 134000)\n",
        "T.add(1986, 275000)\n",
        "T.add(1989, 1200000)\n",
        "T.add(1993, 3100000)\n",
        "T.add(1997, 7500000)\n",
        "T.add(1999, 9500000)\n",
        "T.add(2000, 42000000)\n",
        "T.dados()"
      ],
      "metadata": {
        "colab": {
          "base_uri": "https://localhost:8080/"
        },
        "id": "VnM8aElI3azt",
        "outputId": "952ff5d1-302f-4bcb-fc8b-70f7a1a70e3f"
      },
      "execution_count": null,
      "outputs": [
        {
          "output_type": "stream",
          "name": "stdout",
          "text": [
            "[1971, 1972, 1974, 1978, 1982, 1986, 1989, 1993, 1997, 1999, 2000]\n",
            "[2250, 3300, 6000, 29000, 134000, 275000, 1200000, 3100000, 7500000, 9500000, 42000000]\n"
          ]
        }
      ]
    },
    {
      "cell_type": "code",
      "source": [
        "T.plot()"
      ],
      "metadata": {
        "colab": {
          "base_uri": "https://localhost:8080/",
          "height": 276
        },
        "id": "QRI_5oMBNnKH",
        "outputId": "f7f1145a-a225-4971-a4f9-a00ece806bd5"
      },
      "execution_count": null,
      "outputs": [
        {
          "output_type": "display_data",
          "data": {
            "text/plain": [
              "<Figure size 432x288 with 1 Axes>"
            ],
            "image/png": "[encoded data removed]"
          },
          "metadata": {
            "needs_background": "light"
          }
        }
      ]
    },
    {
      "cell_type": "code",
      "source": [
        "T.preveja_linear(2002)"
      ],
      "metadata": {
        "colab": {
          "base_uri": "https://localhost:8080/"
        },
        "id": "kDT-Pi-37G4I",
        "outputId": "f970ed46-3859-48fe-e97c-49f7a0b21715"
      },
      "execution_count": null,
      "outputs": [
        {
          "output_type": "stream",
          "name": "stdout",
          "text": [
            "17544428.37448311\n"
          ]
        }
      ]
    },
    {
      "cell_type": "code",
      "source": [
        "T.preveja_exp(2002)"
      ],
      "metadata": {
        "colab": {
          "base_uri": "https://localhost:8080/"
        },
        "id": "bOkK8pywHIMA",
        "outputId": "0b49bdf6-ff11-429f-b6c1-059bae8d1103"
      },
      "execution_count": null,
      "outputs": [
        {
          "output_type": "stream",
          "name": "stdout",
          "text": [
            "48613897.269065045\n"
          ]
        }
      ]
    },
    {
      "cell_type": "code",
      "source": [
        "T.plot() #vemos que a estimativa exponencial é mais adequada."
      ],
      "metadata": {
        "colab": {
          "base_uri": "https://localhost:8080/",
          "height": 276
        },
        "id": "rN1SaHDD8rUj",
        "outputId": "ad018e16-4c31-462c-f8fc-a6ea21192ad3"
      },
      "execution_count": null,
      "outputs": [
        {
          "output_type": "display_data",
          "data": {
            "text/plain": [
              "<Figure size 432x288 with 1 Axes>"
            ],
            "image/png": "[encoded data removed]"
          },
          "metadata": {
            "needs_background": "light"
          }
        }
      ]
    },
    {
      "cell_type": "markdown",
      "source": [
        "## Questão 4\n",
        "Tópico 4, questão 3. </br>\n",
        "Respondido por Pedro Amaro"
      ],
      "metadata": {
        "id": "aBSE9g_gzqna"
      }
    },
    {
      "cell_type": "markdown",
      "source": [
        "### Declarações"
      ],
      "metadata": {
        "id": "wJq7vM--BgDW"
      }
    },
    {
      "cell_type": "code",
      "source": [
        "class Integral_Numerica:\n",
        "  def __init__(self, h):\n",
        "    self.h = h\n",
        "    self.x = []\n",
        "    self.y = []\n",
        "    self.result_s = 0\n",
        "    self.result_t = 0\n",
        "\n",
        "  def add(self, x, y):\n",
        "    self.x.append(x)\n",
        "    self.y.append(y)\n",
        "\n",
        "  def Simpson(self):\n",
        "    if len(self.y)%2:\n",
        "      count = -1\n",
        "      soma = 0\n",
        "      for i in self.y:\n",
        "        count = count +1\n",
        "        if count == 0 or count == len(self.y)-1:\n",
        "          soma = soma + i\n",
        "        elif count%2:\n",
        "          soma = soma + 4*i\n",
        "        else:\n",
        "          soma = soma + 2*i\n",
        "      self.result_s = ((self.h)/3)*(soma)\n",
        "      print(self.result_s)\n",
        "    else:\n",
        "      print(\"Intervalo invalido para simpson\")\n",
        "\n",
        "  def Trapezio(self):\n",
        "      count = -1\n",
        "      soma = 0\n",
        "      for i in self.y:\n",
        "        count = count +1\n",
        "        if count == 0 or count == len(self.y)-1:\n",
        "          soma = soma + i\n",
        "        else:\n",
        "          soma = soma + 2*i\n",
        "      self.result_t = (self.h/2)*(soma)\n",
        "      print(self.result_t)"
      ],
      "metadata": {
        "id": "F1bkHOw85bEm"
      },
      "execution_count": null,
      "outputs": []
    },
    {
      "cell_type": "markdown",
      "source": [
        "### Entrada de Dados"
      ],
      "metadata": {
        "id": "7uhRiJYGBieu"
      }
    },
    {
      "cell_type": "code",
      "source": [
        "I = Integral_Numerica(0.4)"
      ],
      "metadata": {
        "id": "pBeS-VOQ0DI1"
      },
      "execution_count": null,
      "outputs": []
    },
    {
      "cell_type": "code",
      "source": [
        "I.add('A', 3)\n",
        "I.add('A1', 2.92)\n",
        "I.add('A2', 2.75)\n",
        "I.add('A3', 2.52)\n",
        "I.add('A4', 2.30)\n",
        "I.add('A5', 1.84)\n",
        "I.add('A6', 0.92)"
      ],
      "metadata": {
        "id": "Pp3fhnIr72oN"
      },
      "execution_count": null,
      "outputs": []
    },
    {
      "cell_type": "code",
      "source": [
        "I.Simpson()"
      ],
      "metadata": {
        "colab": {
          "base_uri": "https://localhost:8080/"
        },
        "id": "6BGDR8Hz8OMU",
        "outputId": "6eea19ed-0183-414d-aaf9-76b09f2bc6b4"
      },
      "execution_count": null,
      "outputs": [
        {
          "output_type": "stream",
          "name": "stdout",
          "text": [
            "5.752\n"
          ]
        }
      ]
    },
    {
      "cell_type": "code",
      "source": [
        "I.Trapezio()"
      ],
      "metadata": {
        "colab": {
          "base_uri": "https://localhost:8080/"
        },
        "id": "bluZB5vZAW2w",
        "outputId": "a7e7ebe9-5ea1-4bd6-bc61-5df76fa67214"
      },
      "execution_count": null,
      "outputs": [
        {
          "output_type": "stream",
          "name": "stdout",
          "text": [
            "5.716\n"
          ]
        }
      ]
    }
  ]
}