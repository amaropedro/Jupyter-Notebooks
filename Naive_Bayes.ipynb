{
  "nbformat": 4,
  "nbformat_minor": 0,
  "metadata": {
    "colab": {
      "provenance": [],
      "toc_visible": true
    },
    "kernelspec": {
      "name": "python3",
      "display_name": "Python 3"
    },
    "language_info": {
      "name": "python"
    }
  },
  "cells": [
    {
      "cell_type": "markdown",
      "metadata": {
        "id": "hftet3827mM5"
      },
      "source": [
        "#**Naive Bayes**\n",
        "\n",
        "Classificador de naive bayes para decidir se uma pessoa irá jogar ou não tenis hoje"
      ]
    },
    {
      "cell_type": "markdown",
      "metadata": {
        "id": "L_We9sTF8AFP"
      },
      "source": [
        "###Base de dados inicial"
      ]
    },
    {
      "cell_type": "code",
      "metadata": {
        "id": "hzWpXmAtmklu"
      },
      "source": [
        "Data = [['Sunny', 'Hot', 'High', 'Weak', 0],                    #D1\n",
        "        ['Sunny', 'Hot', 'High', 'Strong', 0],                  #D2\n",
        "        ['Overcast', 'Hot', 'High', 'Weak', 1],                 #D3\n",
        "        ['Rain', 'Mild', 'High', 'Weak', 1],                    #D4\n",
        "        ['Rain', 'Cool', 'Normal', 'Weak', 1],                  #D5\n",
        "        ['Rain', 'Cool', 'Normal', 'Strong', 0],                #D6\n",
        "        ['Overcast', 'Cool', 'Normal', 'Strong', 1],            #D7\n",
        "        ['Sunny', 'Mild', 'High', 'Weak', 0],                   #D8\n",
        "        ['Sunny', 'Cool', 'Normal', 'Weak', 1],                 #D9\n",
        "        ['Rain', 'Mild', 'Normal', 'Weak', 1],                  #D10\n",
        "        ['Sunny', 'Mild', 'Normal', 'Strong', 1],               #D11\n",
        "        ['Overcast', 'Mild', 'High', 'Strong', 1],              #D12\n",
        "        ['Overcast', 'Hot', 'Normal', 'Weak', 1],               #D13\n",
        "        ['Rain', 'Mild', 'High', 'Strong', 0],                  #D14\n",
        "        #[outlook, temperature, humidity, wind, played?1:0]     #New Day\n",
        "        ]"
      ],
      "execution_count": null,
      "outputs": []
    },
    {
      "cell_type": "markdown",
      "metadata": {
        "id": "TZAMhphi8CYI"
      },
      "source": [
        "###Main"
      ]
    },
    {
      "cell_type": "code",
      "metadata": {
        "colab": {
          "base_uri": "https://localhost:8080/"
        },
        "id": "RC7fCLtOpxYE",
        "outputId": "ae0ca077-7a70-4cd7-8046-15e2241cba72"
      },
      "source": [
        "#DIC = {key:[no,yes]}\n",
        "OUTLOOK = {'Overcast':[0, 0], 'Rain':[0,0], 'Sunny':[0,0]}\n",
        "TEMPERATURE = {'Cool':[0,0], 'Hot':[0,0], 'Mild':[0,0]}\n",
        "HUMIDITY = {'High':[0,0], 'Normal':[0,0]}\n",
        "WIND = {'Strong':[0,0], 'Weak':[0,0]}\n",
        "\n",
        "#totals = [days, no, yes]\n",
        "totals = []\n",
        "\n",
        "totals = readData(Data, OUTLOOK, TEMPERATURE, HUMIDITY, WIND)\n",
        "\n",
        "print(OUTLOOK)\n",
        "print(TEMPERATURE)\n",
        "print(HUMIDITY)\n",
        "print(WIND)\n",
        "print(totals)\n",
        "\n",
        "predict(OUTLOOK, TEMPERATURE, HUMIDITY, WIND, totals)"
      ],
      "execution_count": null,
      "outputs": [
        {
          "output_type": "stream",
          "text": [
            "{'Overcast': [0, 4], 'Rain': [2, 3], 'Sunny': [3, 2]}\n",
            "{'Cool': [1, 3], 'Hot': [2, 2], 'Mild': [2, 4]}\n",
            "{'High': [4, 3], 'Normal': [1, 6]}\n",
            "{'Strong': [3, 3], 'Weak': [2, 6]}\n",
            "[14, 5, 9]\n",
            "\n",
            "Overall Label:   yes: 9/14    no: 5/14\n",
            "Probability:   yes: 0.005291005291005291    no: 0.02057142857142857\n",
            "Não vai jogar.\n"
          ],
          "name": "stdout"
        }
      ]
    },
    {
      "cell_type": "markdown",
      "metadata": {
        "id": "pEPQt7NO7gf0"
      },
      "source": [
        "###Definição das Funções ler data e calcular a probabilidade"
      ]
    },
    {
      "cell_type": "code",
      "metadata": {
        "id": "ywxKe22ytM9K"
      },
      "source": [
        "def readData (D, OUT, TEMP, HUM, WIN):\n",
        "  td = 0\n",
        "  ty = 0\n",
        "  tn = 0\n",
        "  for day in D:\n",
        "    OUT[day[0]][day[4]] += 1\n",
        "    TEMP[day[1]][day[4]] +=1\n",
        "    HUM[day[2]][day[4]] +=1\n",
        "    WIN[day[3]][day[4]] +=1\n",
        "    td += 1\n",
        "    if day[4] == 1:\n",
        "      ty += 1\n",
        "    else:\n",
        "      tn += 1\n",
        "  return [td, tn, ty]"
      ],
      "execution_count": null,
      "outputs": []
    },
    {
      "cell_type": "code",
      "metadata": {
        "id": "AgYgW0rVw1Dj"
      },
      "source": [
        "def predict(OUT, TEMP, HUM, WIN, t):\n",
        "  #prediction = [Outlook, Temperature, Humidity, Wind]\n",
        "  X = ['Sunny', 'Cool', 'High', 'Strong']\n",
        "\n",
        "  prob_yes = ( OUT[X[0]][1]/totals[2] ) * ( TEMP[X[1]][1]/totals[2] ) * ( HUM[X[2]][1]/totals[2] ) * ( WIN[X[3]][1]/totals[2] ) * totals[2]/totals[0]\n",
        "  prob_no = ( OUT[X[0]][0]/totals[1] ) * ( TEMP[X[1]][0]/totals[1] ) * ( HUM[X[2]][0]/totals[1] ) * ( WIN[X[3]][0]/totals[1] ) * totals[1]/totals[0]\n",
        "\n",
        "  print('\\nOverall Label:   yes: '  +str(totals[2]) + '/' +str(totals[0]) + '    no: ' +str(totals[1]) + '/' +str(totals[0]))\n",
        "  print('Probability:   yes: ' +str(prob_yes) + '    no: ' + str(prob_no))\n",
        "  if prob_yes > prob_no:\n",
        "    print('Vai jogar!')\n",
        "  else:\n",
        "    print('Não vai jogar.')"
      ],
      "execution_count": null,
      "outputs": []
    }
  ]
}