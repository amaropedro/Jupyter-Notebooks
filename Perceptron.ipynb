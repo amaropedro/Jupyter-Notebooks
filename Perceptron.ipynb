{
  "nbformat": 4,
  "nbformat_minor": 0,
  "metadata": {
    "colab": {
      "provenance": []
    },
    "kernelspec": {
      "name": "python3",
      "display_name": "Python 3"
    },
    "language_info": {
      "name": "python"
    }
  },
  "cells": [
    {
      "cell_type": "markdown",
      "metadata": {
        "id": "7DBQYEn_UQ9W"
      },
      "source": [
        "##Base de Treinamento"
      ]
    },
    {
      "cell_type": "code",
      "metadata": {
        "id": "o1X0b_6CSOAI"
      },
      "source": [
        "#Y = {(0,0):0, (0,1):0, (1,0):0, (1,1):1}    #AND\n",
        "Y = {(0,0):0, (0,1):1, (1,0):1, (1,1):1}   #OR\n",
        "\n"
      ],
      "execution_count": null,
      "outputs": []
    },
    {
      "cell_type": "markdown",
      "metadata": {
        "id": "kVvJqcaAp6uB"
      },
      "source": [
        "## Main"
      ]
    },
    {
      "cell_type": "code",
      "metadata": {
        "colab": {
          "base_uri": "https://localhost:8080/"
        },
        "id": "qliuW_HEUiKL",
        "outputId": "2088ceb1-fc9f-427e-8c3e-d59c0ce181e3"
      },
      "source": [
        "X = [ (0,0),\n",
        "      (0,1),\n",
        "      (1,0),\n",
        "      (1,1)]\n",
        "\n",
        "W = [0,0,0]\n",
        "\n",
        "limit = 0\n",
        "while(limit<5):\n",
        "  i=0\n",
        "  while(i<4):\n",
        "    o = g(h(X[i], W))                               \n",
        "    if o != Y[X[i]]:                                \n",
        "      a = 0\n",
        "      while(a < 2):                                 \n",
        "        W[a] += 0.4 * (Y[X[i]] - o) * X[i][a]\n",
        "        a += 1\n",
        "      W[2] += 0.4 * (Y[X[i]] - o) * -1\n",
        "    i+=1\n",
        "  limit += 1\n",
        "\n",
        "print(W)\n",
        "print(g(h([0,0], W)))\n",
        "print(g(h([0,1], W)))\n",
        "print(g(h([1,0], W)))\n",
        "print(g(h([1,1], W)))\n",
        "\n",
        "    "
      ],
      "execution_count": null,
      "outputs": [
        {
          "output_type": "stream",
          "text": [
            "[0.4, 0.4, 0.0]\n",
            "0\n",
            "1\n",
            "1\n",
            "1\n"
          ],
          "name": "stdout"
        }
      ]
    },
    {
      "cell_type": "markdown",
      "metadata": {
        "id": "sLVjNb_0p2mg"
      },
      "source": [
        "## Funçõe Auxiliares"
      ]
    },
    {
      "cell_type": "code",
      "metadata": {
        "id": "IWkt_wT4X2Bt"
      },
      "source": [
        "def h(X, W):\n",
        "  j = 0\n",
        "  sum = 0\n",
        "\n",
        "  while(j<2):\n",
        "    sum += W[j]*X[j]\n",
        "    j += 1\n",
        "\n",
        "  sum -= W[2]\n",
        "  return sum"
      ],
      "execution_count": null,
      "outputs": []
    },
    {
      "cell_type": "code",
      "metadata": {
        "id": "kDchAoKkXkJi"
      },
      "source": [
        "def g(x):\n",
        "  if x>0:\n",
        "    return 1\n",
        "  else:\n",
        "    return 0"
      ],
      "execution_count": null,
      "outputs": []
    }
  ]
}